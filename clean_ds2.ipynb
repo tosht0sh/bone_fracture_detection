{
 "cells": [
  {
   "cell_type": "code",
   "execution_count": 2,
   "id": "f72e3db8",
   "metadata": {},
   "outputs": [
    {
     "name": "stderr",
     "output_type": "stream",
     "text": [
      "d:\\Chalmers\\Study_Period_5\\SSY340_Deep_Machine_Learning\\bone_fracture\\bone_fracture_detection\\bfd\\Lib\\site-packages\\tqdm\\auto.py:21: TqdmWarning: IProgress not found. Please update jupyter and ipywidgets. See https://ipywidgets.readthedocs.io/en/stable/user_install.html\n",
      "  from .autonotebook import tqdm as notebook_tqdm\n"
     ]
    },
    {
     "name": "stdout",
     "output_type": "stream",
     "text": [
      "Downloading from https://www.kaggle.com/api/v1/datasets/download/pkdarabi/bone-break-classification-image-dataset?dataset_version_number=4...\n"
     ]
    },
    {
     "name": "stderr",
     "output_type": "stream",
     "text": [
      "100%|██████████| 28.4M/28.4M [00:03<00:00, 9.20MB/s]"
     ]
    },
    {
     "name": "stdout",
     "output_type": "stream",
     "text": [
      "Extracting files...\n"
     ]
    },
    {
     "name": "stderr",
     "output_type": "stream",
     "text": [
      "\n"
     ]
    },
    {
     "name": "stdout",
     "output_type": "stream",
     "text": [
      "Path to dataset files: C:\\Users\\toshi\\.cache\\kagglehub\\datasets\\pkdarabi\\bone-break-classification-image-dataset\\versions\\4\n"
     ]
    }
   ],
   "source": [
    "# import ds from kaggle\n",
    "import kagglehub\n",
    "\n",
    "# Download latest version\n",
    "path = kagglehub.dataset_download(\"pkdarabi/bone-break-classification-image-dataset\")\n",
    "\n",
    "print(\"Path to dataset files:\", path)"
   ]
  },
  {
   "cell_type": "code",
   "execution_count": 22,
   "id": "9d403bd9",
   "metadata": {},
   "outputs": [],
   "source": [
    "# imports\n",
    "\n",
    "import os\n",
    "import shutil\n",
    "import matplotlib.pyplot as plt"
   ]
  },
  {
   "cell_type": "code",
   "execution_count": 20,
   "id": "74fecb96",
   "metadata": {},
   "outputs": [],
   "source": [
    "# print(os.listdir(path))\n",
    "\n",
    "local_folder = \"./dataset2\"\n",
    "\n",
    "# os.mkdir(local_folder)\n",
    "\n",
    "# shutil.copytree(path, local_folder, dirs_exist_ok=True)\n",
    "\n",
    "# rename folder name\n",
    "# old_name =  './dataset2/fractureClassification/Bone Break CLassification'\n",
    "# new_name = './dataset2/fractures'\n",
    "\n",
    "# os.rename(old_name, new_name)\n",
    "\n",
    "folder_name = \"./dataset2/fractures\"\n",
    "train_target = \"./dataset2/train\"\n",
    "test_target = \"./dataset2/test\""
   ]
  },
  {
   "cell_type": "code",
   "execution_count": null,
   "id": "1692e0b2",
   "metadata": {},
   "outputs": [],
   "source": [
    "# Go through each class\n",
    "for class_name in os.listdir(folder_name):\n",
    "    class_path = os.path.join(folder_name, class_name)\n",
    "    if not os.path.isdir(class_path):\n",
    "        continue\n",
    "\n",
    "    # Define source train/test subfolders\n",
    "    src_train = os.path.join(class_path, \"Train\")\n",
    "    src_test = os.path.join(class_path, \"Test\")\n",
    "\n",
    "    # Define target train/test class folders\n",
    "    tgt_train_class = os.path.join(train_target, class_name)\n",
    "    tgt_test_class = os.path.join(test_target, class_name)\n",
    "    os.makedirs(tgt_train_class, exist_ok=True)\n",
    "    os.makedirs(tgt_test_class, exist_ok=True)\n",
    "\n",
    "    # Copy training images\n",
    "    if os.path.exists(src_train):\n",
    "        for file in os.listdir(src_train):\n",
    "            src_file = os.path.join(src_train, file)\n",
    "            dst_file = os.path.join(tgt_train_class, file)\n",
    "            if os.path.isfile(src_file):\n",
    "                shutil.copy(src_file, dst_file)\n",
    "\n",
    "    # Copy testing images\n",
    "    if os.path.exists(src_test):\n",
    "        for file in os.listdir(src_test):\n",
    "            src_file = os.path.join(src_test, file)\n",
    "            dst_file = os.path.join(tgt_test_class, file)\n",
    "            if os.path.isfile(src_file):\n",
    "                shutil.copy(src_file, dst_file)"
   ]
  },
  {
   "cell_type": "code",
   "execution_count": null,
   "id": "6e83ef5f",
   "metadata": {},
   "outputs": [],
   "source": [
    "# Visualize 6 random images from train_data\n",
    "plt.figure(figsize=(12, 8))\n",
    "for images, labels in train_data.take(1):  # Take one batch\n",
    "    for i in range(10):\n",
    "        ax = plt.subplot(2, 5, i + 1)\n",
    "        plt.imshow(images[i].numpy().astype(\"uint8\"))\n",
    "        plt.title(f\"{class_names[labels[i].numpy()]}\")\n",
    "        plt.axis(\"off\")\n",
    "    break\n",
    "plt.tight_layout()\n",
    "plt.show()"
   ]
  }
 ],
 "metadata": {
  "kernelspec": {
   "display_name": "bfd",
   "language": "python",
   "name": "python3"
  },
  "language_info": {
   "codemirror_mode": {
    "name": "ipython",
    "version": 3
   },
   "file_extension": ".py",
   "mimetype": "text/x-python",
   "name": "python",
   "nbconvert_exporter": "python",
   "pygments_lexer": "ipython3",
   "version": "3.13.5"
  }
 },
 "nbformat": 4,
 "nbformat_minor": 5
}
