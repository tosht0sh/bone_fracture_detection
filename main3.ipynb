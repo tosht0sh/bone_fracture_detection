{
 "cells": [
  {
   "cell_type": "code",
   "execution_count": null,
   "id": "f72e3db8",
   "metadata": {},
   "outputs": [
    {
     "name": "stderr",
     "output_type": "stream",
     "text": [
      "d:\\Chalmers\\Study_Period_5\\SSY340_Deep_Machine_Learning\\bone_fracture\\bone_fracture_detection\\bfd\\Lib\\site-packages\\tqdm\\auto.py:21: TqdmWarning: IProgress not found. Please update jupyter and ipywidgets. See https://ipywidgets.readthedocs.io/en/stable/user_install.html\n",
      "  from .autonotebook import tqdm as notebook_tqdm\n"
     ]
    },
    {
     "name": "stdout",
     "output_type": "stream",
     "text": [
      "Path to dataset files: C:\\Users\\toshi\\.cache\\kagglehub\\datasets\\pkdarabi\\bone-break-classification-image-dataset\\versions\\4\n"
     ]
    }
   ],
   "source": [
    "import kagglehub\n",
    "\n",
    "# Download latest version\n",
    "path = kagglehub.dataset_download(\"jockeroika/human-bone-fractures-image-dataset\")\n",
    "\n",
    "print(\"Path to dataset files:\", path)"
   ]
  },
  {
   "cell_type": "code",
   "execution_count": 23,
   "id": "9d403bd9",
   "metadata": {},
   "outputs": [],
   "source": [
    "# imports\n",
    "\n",
    "import os\n",
    "import shutil\n",
    "\n",
    "import matplotlib.pyplot as plt\n",
    "from collections import Counter, defaultdict\n",
    "from sklearn.model_selection import StratifiedShuffleSplit\n",
    "from tqdm import tqdm\n",
    "import copy\n",
    "\n",
    "from PIL import Image\n",
    "\n",
    "import timm\n",
    "import torch\n",
    "import torch.nn as nn\n",
    "import torch.optim as optim\n",
    "from torchvision import datasets, transforms\n",
    "from torch.utils.data import random_split, DataLoader, Dataset, Subset\n"
   ]
  },
  {
   "cell_type": "code",
   "execution_count": null,
   "id": "74fecb96",
   "metadata": {},
   "outputs": [],
   "source": [
    "# print(os.listdir(path))\n",
    "\n",
    "local_folder = \"./dataset3\"\n",
    "\n",
    "os.mkdir(local_folder)\n",
    "\n",
    "shutil.copytree(path, local_folder, dirs_exist_ok=True)\n",
    "\n",
    "# rename folder name\n",
    "# old_name =  './dataset2/fractures/Bone Break CLassification'\n",
    "# new_name = './dataset2/fractures'\n",
    "\n",
    "# os.rename(old_name, new_name)\n",
    "\n",
    "# folder_name = \"./dataset2/fractures\"\n",
    "# train_target = \"./dataset2/train\"\n",
    "# test_target = \"./dataset2/test\""
   ]
  },
  {
   "cell_type": "code",
   "execution_count": 10,
   "id": "1692e0b2",
   "metadata": {},
   "outputs": [],
   "source": [
    "# Go through each class\n",
    "for class_name in os.listdir(folder_name):\n",
    "    class_path = os.path.join(folder_name, class_name)\n",
    "    if not os.path.isdir(class_path):\n",
    "        continue\n",
    "\n",
    "    # Define source train/test subfolders\n",
    "    src_train = os.path.join(class_path, \"Train\")\n",
    "    src_test = os.path.join(class_path, \"Test\")\n",
    "\n",
    "    # Define target train/test class folders\n",
    "    tgt_train_class = os.path.join(train_target, class_name)\n",
    "    tgt_test_class = os.path.join(test_target, class_name)\n",
    "    os.makedirs(tgt_train_class, exist_ok=True)\n",
    "    os.makedirs(tgt_test_class, exist_ok=True)\n",
    "\n",
    "    # Copy training images\n",
    "    if os.path.exists(src_train):\n",
    "        for file in os.listdir(src_train):\n",
    "            src_file = os.path.join(src_train, file)\n",
    "            dst_file = os.path.join(tgt_train_class, file)\n",
    "            if os.path.isfile(src_file):\n",
    "                shutil.copy(src_file, dst_file)\n",
    "\n",
    "    # Copy testing images\n",
    "    if os.path.exists(src_test):\n",
    "        for file in os.listdir(src_test):\n",
    "            src_file = os.path.join(src_test, file)\n",
    "            dst_file = os.path.join(tgt_test_class, file)\n",
    "            if os.path.isfile(src_file):\n",
    "                shutil.copy(src_file, dst_file)"
   ]
  },
  {
   "cell_type": "code",
   "execution_count": 9,
   "id": "e639609f",
   "metadata": {},
   "outputs": [],
   "source": [
    "# Set paths\n",
    "# for yoga\n",
    "# train_dir = r\"C:\\SSY340_DML\\bone_fracture_detection\\dataset2\\train\"\n",
    "# test_dir = r\"C:\\SSY340_DML\\bone_fracture_detection\\dataset2\\test\"\n",
    "\n",
    "# for asus\n",
    "train_dir = r\"D:\\Chalmers\\Study_Period_5\\SSY340_Deep_Machine_Learning\\bone_fracture\\bone_fracture_detection\\dataset2\\train\"\n",
    "test_dir = r\"D:\\Chalmers\\Study_Period_5\\SSY340_Deep_Machine_Learning\\bone_fracture\\bone_fracture_detection\\dataset2\\test\""
   ]
  },
  {
   "cell_type": "code",
   "execution_count": 11,
   "id": "a7a8f4cd",
   "metadata": {},
   "outputs": [
    {
     "name": "stdout",
     "output_type": "stream",
     "text": [
      "📊 Train class counts: {'Avulsion fracture': 109, 'Comminuted fracture': 134, 'Fracture Dislocation': 137, 'Greenstick fracture': 106, 'Hairline Fracture': 101, 'Impacted fracture': 75, 'Longitudinal fracture': 68, 'Oblique fracture': 69, 'Pathological fracture': 116, 'Spiral Fracture': 74}\n",
      "📊 Test class counts: {'Avulsion fracture': 14, 'Comminuted fracture': 14, 'Fracture Dislocation': 19, 'Greenstick fracture': 16, 'Hairline Fracture': 10, 'Impacted fracture': 9, 'Longitudinal fracture': 12, 'Oblique fracture': 16, 'Pathological fracture': 18, 'Spiral Fracture': 12}\n"
     ]
    }
   ],
   "source": [
    "def count_images_in_folder(root_dir):\n",
    "    class_counts = defaultdict(int)\n",
    "    for class_name in sorted(os.listdir(root_dir)):\n",
    "        class_path = os.path.join(root_dir, class_name)\n",
    "        if os.path.isdir(class_path):\n",
    "            n_images = len([\n",
    "                f for f in os.listdir(class_path)\n",
    "                if f.lower().endswith(('.jpg', '.jpeg', '.png'))\n",
    "            ])\n",
    "            class_counts[class_name] = n_images\n",
    "    return dict(class_counts)\n",
    "\n",
    "train_counts = count_images_in_folder(train_dir)\n",
    "test_counts = count_images_in_folder(test_dir)\n",
    "\n",
    "print(\"📊 Train class counts:\", train_counts)\n",
    "print(\"📊 Test class counts:\", test_counts)"
   ]
  },
  {
   "cell_type": "code",
   "execution_count": 13,
   "id": "e68f1c00",
   "metadata": {},
   "outputs": [
    {
     "name": "stdout",
     "output_type": "stream",
     "text": [
      "Train images: 791, Val images: 198, Test images: 140\n"
     ]
    }
   ],
   "source": [
    "# Define transforms for DeiT (224x224 input size)\n",
    "transform = transforms.Compose([\n",
    "    transforms.Resize((224, 224)),\n",
    "    transforms.ToTensor(),\n",
    "    transforms.Normalize(mean=[0.5, 0.5, 0.5], std=[0.5, 0.5, 0.5])\n",
    "])\n",
    "\n",
    "\n",
    "class FractureDataset(Dataset):\n",
    "    def __init__(self, root_dir, transform=None):\n",
    "        self.transform = transform\n",
    "        self.image_paths = []\n",
    "        self.labels = []\n",
    "        self.class_to_idx = {}\n",
    "\n",
    "        # Enumerate class folders\n",
    "        for idx, class_name in enumerate(sorted(os.listdir(root_dir))):\n",
    "            class_path = os.path.join(root_dir, class_name)\n",
    "            if os.path.isdir(class_path):\n",
    "                self.class_to_idx[class_name] = idx\n",
    "                for img_file in os.listdir(class_path):\n",
    "                    if img_file.lower().endswith(('.jpg', '.jpeg', '.png')):\n",
    "                        self.image_paths.append(os.path.join(class_path, img_file))\n",
    "                        self.labels.append(idx)\n",
    "\n",
    "    def __len__(self):\n",
    "        return len(self.image_paths)\n",
    "\n",
    "    def __getitem__(self, idx):\n",
    "        image = Image.open(self.image_paths[idx]).convert('RGB')\n",
    "        label = self.labels[idx]\n",
    "        if self.transform:\n",
    "            image = self.transform(image)\n",
    "        return image, label\n",
    "\n",
    "\n",
    "def stratified_split(dataset, test_size=0.2, random_state=42):\n",
    "    splitter = StratifiedShuffleSplit(n_splits=1, test_size=test_size, random_state=random_state)\n",
    "    indices = list(range(len(dataset)))\n",
    "    y = dataset.labels\n",
    "    for train_idx, val_idx in splitter.split(indices, y):\n",
    "        train_subset = Subset(dataset, train_idx)\n",
    "        val_subset = Subset(dataset, val_idx)\n",
    "    return train_subset, val_subset\n",
    "\n",
    "\n",
    "# Define transforms for DeiT\n",
    "transform = transforms.Compose([\n",
    "    transforms.Resize((224, 224)),\n",
    "    transforms.ToTensor(),\n",
    "    transforms.Normalize([0.5]*3, [0.5]*3)\n",
    "])\n",
    "\n",
    "# Create datasets\n",
    "train_dataset = FractureDataset(train_dir, transform=transform)\n",
    "test_dataset = FractureDataset(test_dir, transform=transform)\n",
    "\n",
    "# Stratified split (80% train, 20% val)\n",
    "train_subset, val_subset = stratified_split(train_dataset, test_size=0.2)\n",
    "\n",
    "# DataLoaders\n",
    "train_loader = DataLoader(train_subset, batch_size=32, shuffle=True)\n",
    "val_loader = DataLoader(val_subset, batch_size=32, shuffle=False)\n",
    "test_loader = DataLoader(test_dataset, batch_size=32, shuffle=False)\n",
    "\n",
    "print(f\"Train images: {len(train_subset)}, Val images: {len(val_subset)}, Test images: {len(test_dataset)}\")"
   ]
  },
  {
   "cell_type": "code",
   "execution_count": 22,
   "id": "6e83ef5f",
   "metadata": {},
   "outputs": [
    {
     "data": {
      "image/png": "[encoded data removed]",
      "text/plain": [
       "<Figure size 1400x500 with 2 Axes>"
      ]
     },
     "metadata": {},
     "output_type": "display_data"
    }
   ],
   "source": [
    "# Verify class balance\n",
    "\n",
    "def count_subset_classes(subset):\n",
    "    targets = [subset.dataset.labels[i] for i in subset.indices]\n",
    "    return Counter(targets)\n",
    "\n",
    "train_counts = count_subset_classes(train_subset)\n",
    "val_counts = count_subset_classes(val_subset)\n",
    "\n",
    "idx_to_class = {v: k for k, v in train_dataset.class_to_idx.items()}\n",
    "\n",
    "# print(\"\\nTrain class counts:\")\n",
    "# for idx, count in train_counts.items():\n",
    "#     print(f\"{idx_to_class[idx]}: {count}\")\n",
    "\n",
    "# print(\"\\nVal class counts:\")\n",
    "# for idx, count in val_counts.items():\n",
    "#     print(f\"{idx_to_class[idx]}: {count}\")\n",
    "\n",
    "# Sort by class index\n",
    "classes = [idx_to_class[i] for i in sorted(idx_to_class.keys())]\n",
    "train_values = [train_counts.get(i, 0) for i in sorted(idx_to_class.keys())]\n",
    "val_values = [val_counts.get(i, 0) for i in sorted(idx_to_class.keys())]\n",
    "\n",
    "# --- Plot side-by-side ---\n",
    "fig, axes = plt.subplots(1, 2, figsize=(14, 5), sharey=True)\n",
    "\n",
    "# Train plot\n",
    "axes[0].bar(classes, train_values, color='skyblue')\n",
    "axes[0].set_title(\"Train Class Distribution\")\n",
    "axes[0].set_xlabel(\"Class\")\n",
    "axes[0].set_ylabel(\"Number of Images\")\n",
    "axes[0].tick_params(axis='x', rotation=90)\n",
    "\n",
    "# Validation plot\n",
    "axes[1].bar(classes, val_values, color='salmon')\n",
    "axes[1].set_title(\"Validation Class Distribution\")\n",
    "axes[1].set_xlabel(\"Class\")\n",
    "axes[1].tick_params(axis='x', rotation=90)\n",
    "\n",
    "plt.tight_layout()\n",
    "plt.show()"
   ]
  },
  {
   "cell_type": "code",
   "execution_count": null,
   "id": "2649eab0",
   "metadata": {},
   "outputs": [],
   "source": [
    "def output_to_label(z):\n",
    "    return torch.argmax(z, dim=1)\n",
    "\n",
    "def train_one_epoch(model, dataloader, optimizer, loss_fn, device, scaler=None):\n",
    "    model.train()\n",
    "    total_loss, total_acc = 0.0, 0.0\n",
    "\n",
    "    loop = tqdm(dataloader, desc=\"Training\", leave=False)\n",
    "    for x, y in loop:\n",
    "        x, y = x.to(device), y.to(device).long()\n",
    "        optimizer.zero_grad()\n",
    "\n",
    "        with torch.cuda.amp.autocast(enabled=(scaler is not None)):\n",
    "            outputs = model(x)\n",
    "            loss = loss_fn(outputs, y)\n",
    "\n",
    "        if scaler:\n",
    "            scaler.scale(loss).backward()\n",
    "            scaler.step(optimizer)\n",
    "            scaler.update()\n",
    "        else:\n",
    "            loss.backward()\n",
    "            optimizer.step()\n",
    "\n",
    "        preds = torch.argmax(outputs, dim=1)\n",
    "        acc = (preds == y).float().mean().item()\n",
    "\n",
    "        total_loss += loss.item()\n",
    "        total_acc += acc\n",
    "\n",
    "        loop.set_postfix(loss=loss.item(), acc=acc)\n",
    "\n",
    "    avg_loss = total_loss / len(dataloader)\n",
    "    avg_acc = total_acc / len(dataloader)\n",
    "    return avg_loss, avg_acc\n",
    "\n",
    "\n",
    "def evaluate(model, dataloader, loss_fn, device):\n",
    "    model.eval()\n",
    "    total_loss, total_acc = 0.0, 0.0\n",
    "    with torch.no_grad():\n",
    "        loop = tqdm(dataloader, desc=\"Validation\", leave=False)\n",
    "        for x, y in loop:\n",
    "            x, y = x.to(device), y.to(device).long()\n",
    "            outputs = model(x)\n",
    "            loss = loss_fn(outputs, y)\n",
    "            preds = torch.argmax(outputs, dim=1)\n",
    "            acc = (preds == y).float().mean().item()\n",
    "\n",
    "            total_loss += loss.item()\n",
    "            total_acc += acc\n",
    "\n",
    "    avg_loss = total_loss / len(dataloader)\n",
    "    avg_acc = total_acc / len(dataloader)\n",
    "    return avg_loss, avg_acc\n",
    "\n",
    "\n",
    "def training_loop(model, optimizer, loss_fn, train_loader, val_loader, num_epochs, print_every=None):\n",
    "    device = torch.device(\"cuda\" if torch.cuda.is_available() else \"cpu\")\n",
    "    model.to(device)\n",
    "\n",
    "    scaler = torch.cuda.amp.GradScaler(enabled=torch.cuda.is_available())\n",
    "\n",
    "    train_losses, val_losses = [], []\n",
    "    train_accs, val_accs = [], []\n",
    "\n",
    "    best_model_wts = copy.deepcopy(model.state_dict())\n",
    "    best_val_acc = 0.0\n",
    "\n",
    "    print(\"Starting training...\\n\")\n",
    "\n",
    "    for epoch in range(1, num_epochs + 1):\n",
    "        print(f\"Epoch {epoch}/{num_epochs}\")\n",
    "\n",
    "        # --- Gradual Unfreezing ---\n",
    "        if epoch == 15:\n",
    "            print(\"Unfreezing last 2 DeiT blocks...\")\n",
    "            for name, param in model.blocks[-3:].named_parameters():\n",
    "                param.requires_grad = True\n",
    "            for name, param in model.norm.named_parameters():\n",
    "                param.requires_grad = True\n",
    "            optimizer = optim.AdamW(model.parameters(), lr=5e-6,weight_decay=0.05)\n",
    "        elif epoch == 30:\n",
    "            print(\"Unfreezing last 6 DeiT blocks...\")\n",
    "            for name, param in model.blocks[-7:].named_parameters():\n",
    "                param.requires_grad = True\n",
    "            for name, param in model.norm.named_parameters():\n",
    "                param.requires_grad = True\n",
    "\n",
    "        # --- Train and Validate ---\n",
    "        train_loss, train_acc = train_one_epoch(model, train_loader, optimizer, loss_fn, device, scaler)\n",
    "        val_loss, val_acc = evaluate(model, val_loader, loss_fn, device)\n",
    "\n",
    "        train_losses.append(train_loss)\n",
    "        train_accs.append(train_acc)\n",
    "        val_losses.append(val_loss)\n",
    "        val_accs.append(val_acc)\n",
    "\n",
    "        print(f\"Train Loss: {train_loss:.4f} | Train Acc: {train_acc:.4f} | \"\n",
    "              f\"Val Loss: {val_loss:.4f} | Val Acc: {val_acc:.4f}\")\n",
    "\n",
    "        # --- Save best model ---\n",
    "        if val_acc > best_val_acc:\n",
    "            best_val_acc = val_acc\n",
    "            best_model_wts = copy.deepcopy(model.state_dict())\n",
    "            torch.save(model.state_dict(), \"best_model.pth\")\n",
    "            print(\"✅ Best model updated and saved.\")\n",
    "\n",
    "    print(f\"\\nTraining complete. Best validation accuracy: {best_val_acc:.4f}\")\n",
    "    model.load_state_dict(best_model_wts)\n",
    "    return model, train_losses, train_accs, val_losses, val_accs\n"
   ]
  },
  {
   "cell_type": "code",
   "execution_count": 34,
   "id": "0b56a2e5",
   "metadata": {},
   "outputs": [],
   "source": [
    "model = timm.create_model('deit_base_patch16_224', pretrained=True)\n",
    "\n",
    "model.head = nn.Linear(model.head.in_features, 10)\n",
    "\n",
    "# Freeze all DeiT backbone parameters\n",
    "for param in model.parameters():\n",
    "    param.requires_grad = False\n",
    "\n",
    "# Unfreeze only the classification head\n",
    "for param in model.head.parameters():\n",
    "    param.requires_grad = True"
   ]
  },
  {
   "cell_type": "code",
   "execution_count": null,
   "id": "daea0227",
   "metadata": {},
   "outputs": [
    {
     "name": "stderr",
     "output_type": "stream",
     "text": [
      "C:\\Users\\toshi\\AppData\\Local\\Temp\\ipykernel_16748\\723858819.py:62: FutureWarning: `torch.cuda.amp.GradScaler(args...)` is deprecated. Please use `torch.amp.GradScaler('cuda', args...)` instead.\n",
      "  scaler = torch.cuda.amp.GradScaler(enabled=torch.cuda.is_available())\n"
     ]
    },
    {
     "name": "stdout",
     "output_type": "stream",
     "text": [
      "Starting training...\n",
      "\n",
      "Epoch 1/25\n"
     ]
    },
    {
     "name": "stderr",
     "output_type": "stream",
     "text": [
      "Training:   0%|          | 0/25 [00:00<?, ?it/s]C:\\Users\\toshi\\AppData\\Local\\Temp\\ipykernel_16748\\723858819.py:13: FutureWarning: `torch.cuda.amp.autocast(args...)` is deprecated. Please use `torch.amp.autocast('cuda', args...)` instead.\n",
      "  with torch.cuda.amp.autocast(enabled=(scaler is not None)):\n",
      "                                                                                \r"
     ]
    },
    {
     "name": "stdout",
     "output_type": "stream",
     "text": [
      "Train Loss: 2.3353 | Train Acc: 0.0810 | Val Loss: 2.3435 | Val Acc: 0.0759\n",
      "✅ Best model updated and saved.\n",
      "Epoch 2/25\n"
     ]
    },
    {
     "name": "stderr",
     "output_type": "stream",
     "text": [
      "                                                                                \r"
     ]
    },
    {
     "name": "stdout",
     "output_type": "stream",
     "text": [
      "Train Loss: 2.3292 | Train Acc: 0.0847 | Val Loss: 2.3394 | Val Acc: 0.0759\n",
      "Epoch 3/25\n"
     ]
    },
    {
     "name": "stderr",
     "output_type": "stream",
     "text": [
      "                                                                                \r"
     ]
    },
    {
     "name": "stdout",
     "output_type": "stream",
     "text": [
      "Train Loss: 2.3223 | Train Acc: 0.0815 | Val Loss: 2.3360 | Val Acc: 0.0625\n",
      "Epoch 4/25\n"
     ]
    },
    {
     "name": "stderr",
     "output_type": "stream",
     "text": [
      "                                                                                \r"
     ]
    },
    {
     "name": "stdout",
     "output_type": "stream",
     "text": [
      "Train Loss: 2.3178 | Train Acc: 0.0835 | Val Loss: 2.3325 | Val Acc: 0.0714\n",
      "Epoch 5/25\n"
     ]
    },
    {
     "name": "stderr",
     "output_type": "stream",
     "text": [
      "                                                                                \r"
     ]
    },
    {
     "name": "stdout",
     "output_type": "stream",
     "text": [
      "Train Loss: 2.3141 | Train Acc: 0.0882 | Val Loss: 2.3290 | Val Acc: 0.0714\n",
      "Epoch 6/25\n"
     ]
    },
    {
     "name": "stderr",
     "output_type": "stream",
     "text": [
      "                                                                                \r"
     ]
    },
    {
     "name": "stdout",
     "output_type": "stream",
     "text": [
      "Train Loss: 2.3088 | Train Acc: 0.0885 | Val Loss: 2.3261 | Val Acc: 0.0670\n",
      "Epoch 7/25\n"
     ]
    },
    {
     "name": "stderr",
     "output_type": "stream",
     "text": [
      "                                                                                \r"
     ]
    },
    {
     "name": "stdout",
     "output_type": "stream",
     "text": [
      "Train Loss: 2.3042 | Train Acc: 0.0970 | Val Loss: 2.3227 | Val Acc: 0.0670\n",
      "Epoch 8/25\n"
     ]
    },
    {
     "name": "stderr",
     "output_type": "stream",
     "text": [
      "                                                                                \r"
     ]
    },
    {
     "name": "stdout",
     "output_type": "stream",
     "text": [
      "Train Loss: 2.3009 | Train Acc: 0.0963 | Val Loss: 2.3199 | Val Acc: 0.0714\n",
      "Epoch 9/25\n"
     ]
    },
    {
     "name": "stderr",
     "output_type": "stream",
     "text": [
      "                                                                                \r"
     ]
    },
    {
     "name": "stdout",
     "output_type": "stream",
     "text": [
      "Train Loss: 2.2954 | Train Acc: 0.0990 | Val Loss: 2.3168 | Val Acc: 0.0625\n",
      "Epoch 10/25\n"
     ]
    },
    {
     "name": "stderr",
     "output_type": "stream",
     "text": [
      "                                                                                \r"
     ]
    },
    {
     "name": "stdout",
     "output_type": "stream",
     "text": [
      "Train Loss: 2.2928 | Train Acc: 0.1035 | Val Loss: 2.3144 | Val Acc: 0.0580\n",
      "Epoch 11/25\n"
     ]
    },
    {
     "name": "stderr",
     "output_type": "stream",
     "text": [
      "                                                                                \r"
     ]
    },
    {
     "name": "stdout",
     "output_type": "stream",
     "text": [
      "Train Loss: 2.2884 | Train Acc: 0.1037 | Val Loss: 2.3116 | Val Acc: 0.0580\n",
      "Epoch 12/25\n"
     ]
    },
    {
     "name": "stderr",
     "output_type": "stream",
     "text": [
      "                                                                                \r"
     ]
    },
    {
     "name": "stdout",
     "output_type": "stream",
     "text": [
      "Train Loss: 2.2840 | Train Acc: 0.1124 | Val Loss: 2.3090 | Val Acc: 0.0625\n",
      "Epoch 13/25\n"
     ]
    },
    {
     "name": "stderr",
     "output_type": "stream",
     "text": [
      "                                                                                \r"
     ]
    },
    {
     "name": "stdout",
     "output_type": "stream",
     "text": [
      "Train Loss: 2.2798 | Train Acc: 0.1085 | Val Loss: 2.3063 | Val Acc: 0.0714\n",
      "Epoch 14/25\n"
     ]
    },
    {
     "name": "stderr",
     "output_type": "stream",
     "text": [
      "Validation:  71%|███████▏  | 5/7 [00:08<00:03,  1.69s/it]                       "
     ]
    }
   ],
   "source": [
    "device = torch.device(\"cuda\" if torch.cuda.is_available() else \"cpu\")\n",
    "\n",
    "labels = train_dataset.labels\n",
    "counts = Counter(labels)\n",
    "total = sum(counts.values())\n",
    "class_weights = torch.tensor([total / counts[i] for i in range(len(counts))], dtype=torch.float)\n",
    "loss_fn = nn.CrossEntropyLoss(weight=class_weights.to(device))\n",
    "\n",
    "\n",
    "lr = 8e-6\n",
    "optimizer = optim.AdamW(model.parameters(), lr=8e-6,weight_decay=0.05)\n",
    "num_epochs = 25\n",
    "print_every = None\n",
    "\n",
    "model, train_losses, train_accs, val_losses, val_accs = training_loop(model, optimizer, loss_fn, train_loader, val_loader, num_epochs, print_every)"
   ]
  }
 ],
 "metadata": {
  "kernelspec": {
   "display_name": "bfd",
   "language": "python",
   "name": "python3"
  },
  "language_info": {
   "codemirror_mode": {
    "name": "ipython",
    "version": 3
   },
   "file_extension": ".py",
   "mimetype": "text/x-python",
   "name": "python",
   "nbconvert_exporter": "python",
   "pygments_lexer": "ipython3",
   "version": "3.13.5"
  }
 },
 "nbformat": 4,
 "nbformat_minor": 5
}
