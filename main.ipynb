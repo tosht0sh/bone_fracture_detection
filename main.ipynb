{
 "cells": [
  {
   "cell_type": "markdown",
   "id": "86f50501",
   "metadata": {},
   "source": [
    "# Human Bone Fracture Detection"
   ]
  },
  {
   "cell_type": "markdown",
   "id": "02252925",
   "metadata": {},
   "source": [
    "We will detect the type of bone breaks in this project. The plans we will follow is\n",
    "- ~Make a python virtual environment~\n",
    "- ~Clean and prepare Data~\n",
    "- [TODO]Create transfer learning model\n",
    "- Train and get a decent accuracy using just modifications to head\n",
    "- Unfreezing and running the model\n",
    "- Test set accuracy and visualization"
   ]
  },
  {
   "cell_type": "code",
   "execution_count": 3,
   "id": "ff6473fb",
   "metadata": {},
   "outputs": [
    {
     "name": "stdout",
     "output_type": "stream",
     "text": [
      "Requirement already satisfied: numpy in c:\\ssy340_dml\\bone_fracture_detection\\bfd\\lib\\site-packages (2.3.4)\n",
      "Requirement already satisfied: pandas in c:\\ssy340_dml\\bone_fracture_detection\\bfd\\lib\\site-packages (2.3.3)\n",
      "Requirement already satisfied: numpy>=1.26.0 in c:\\ssy340_dml\\bone_fracture_detection\\bfd\\lib\\site-packages (from pandas) (2.3.4)\n",
      "Requirement already satisfied: python-dateutil>=2.8.2 in c:\\ssy340_dml\\bone_fracture_detection\\bfd\\lib\\site-packages (from pandas) (2.9.0.post0)\n",
      "Requirement already satisfied: pytz>=2020.1 in c:\\ssy340_dml\\bone_fracture_detection\\bfd\\lib\\site-packages (from pandas) (2025.2)\n",
      "Requirement already satisfied: tzdata>=2022.7 in c:\\ssy340_dml\\bone_fracture_detection\\bfd\\lib\\site-packages (from pandas) (2025.2)\n",
      "Requirement already satisfied: six>=1.5 in c:\\ssy340_dml\\bone_fracture_detection\\bfd\\lib\\site-packages (from python-dateutil>=2.8.2->pandas) (1.17.0)\n",
      "Looking in indexes: https://download.pytorch.org/whl/cpu\n",
      "Requirement already satisfied: torch in c:\\ssy340_dml\\bone_fracture_detection\\bfd\\lib\\site-packages (2.9.0+cpu)\n",
      "Requirement already satisfied: torchvision in c:\\ssy340_dml\\bone_fracture_detection\\bfd\\lib\\site-packages (0.24.0+cpu)\n",
      "Requirement already satisfied: filelock in c:\\ssy340_dml\\bone_fracture_detection\\bfd\\lib\\site-packages (from torch) (3.19.1)\n",
      "Requirement already satisfied: typing-extensions>=4.10.0 in c:\\ssy340_dml\\bone_fracture_detection\\bfd\\lib\\site-packages (from torch) (4.15.0)\n",
      "Requirement already satisfied: sympy>=1.13.3 in c:\\ssy340_dml\\bone_fracture_detection\\bfd\\lib\\site-packages (from torch) (1.14.0)\n",
      "Requirement already satisfied: networkx>=2.5.1 in c:\\ssy340_dml\\bone_fracture_detection\\bfd\\lib\\site-packages (from torch) (3.5)\n",
      "Requirement already satisfied: jinja2 in c:\\ssy340_dml\\bone_fracture_detection\\bfd\\lib\\site-packages (from torch) (3.1.6)\n",
      "Requirement already satisfied: fsspec>=0.8.5 in c:\\ssy340_dml\\bone_fracture_detection\\bfd\\lib\\site-packages (from torch) (2025.9.0)\n",
      "Requirement already satisfied: setuptools in c:\\ssy340_dml\\bone_fracture_detection\\bfd\\lib\\site-packages (from torch) (70.2.0)\n",
      "Requirement already satisfied: numpy in c:\\ssy340_dml\\bone_fracture_detection\\bfd\\lib\\site-packages (from torchvision) (2.3.4)\n",
      "Requirement already satisfied: pillow!=8.3.*,>=5.3.0 in c:\\ssy340_dml\\bone_fracture_detection\\bfd\\lib\\site-packages (from torchvision) (11.3.0)\n",
      "Requirement already satisfied: mpmath<1.4,>=1.1.0 in c:\\ssy340_dml\\bone_fracture_detection\\bfd\\lib\\site-packages (from sympy>=1.13.3->torch) (1.3.0)\n",
      "Requirement already satisfied: MarkupSafe>=2.0 in c:\\ssy340_dml\\bone_fracture_detection\\bfd\\lib\\site-packages (from jinja2->torch) (2.1.5)\n",
      "Requirement already satisfied: matplotlib in c:\\ssy340_dml\\bone_fracture_detection\\bfd\\lib\\site-packages (3.10.7)\n",
      "Requirement already satisfied: contourpy>=1.0.1 in c:\\ssy340_dml\\bone_fracture_detection\\bfd\\lib\\site-packages (from matplotlib) (1.3.3)\n",
      "Requirement already satisfied: cycler>=0.10 in c:\\ssy340_dml\\bone_fracture_detection\\bfd\\lib\\site-packages (from matplotlib) (0.12.1)\n",
      "Requirement already satisfied: fonttools>=4.22.0 in c:\\ssy340_dml\\bone_fracture_detection\\bfd\\lib\\site-packages (from matplotlib) (4.60.1)\n",
      "Requirement already satisfied: kiwisolver>=1.3.1 in c:\\ssy340_dml\\bone_fracture_detection\\bfd\\lib\\site-packages (from matplotlib) (1.4.9)\n",
      "Requirement already satisfied: numpy>=1.23 in c:\\ssy340_dml\\bone_fracture_detection\\bfd\\lib\\site-packages (from matplotlib) (2.3.4)\n",
      "Requirement already satisfied: packaging>=20.0 in c:\\ssy340_dml\\bone_fracture_detection\\bfd\\lib\\site-packages (from matplotlib) (25.0)\n",
      "Requirement already satisfied: pillow>=8 in c:\\ssy340_dml\\bone_fracture_detection\\bfd\\lib\\site-packages (from matplotlib) (11.3.0)\n",
      "Requirement already satisfied: pyparsing>=3 in c:\\ssy340_dml\\bone_fracture_detection\\bfd\\lib\\site-packages (from matplotlib) (3.2.5)\n",
      "Requirement already satisfied: python-dateutil>=2.7 in c:\\ssy340_dml\\bone_fracture_detection\\bfd\\lib\\site-packages (from matplotlib) (2.9.0.post0)\n",
      "Requirement already satisfied: six>=1.5 in c:\\ssy340_dml\\bone_fracture_detection\\bfd\\lib\\site-packages (from python-dateutil>=2.7->matplotlib) (1.17.0)\n"
     ]
    }
   ],
   "source": [
    "!pip install numpy\n",
    "!pip install pandas\n",
    "!pip install torch torchvision --index-url https://download.pytorch.org/whl/cpu\n",
    "!pip install matplotlib"
   ]
  },
  {
   "cell_type": "markdown",
   "id": "4cb48478",
   "metadata": {},
   "source": [
    "### Importing dependencies and database"
   ]
  },
  {
   "cell_type": "code",
   "execution_count": 1,
   "id": "defca79d",
   "metadata": {},
   "outputs": [],
   "source": [
    "# imorting reqd libs\n",
    "from pathlib import Path\n",
    "import pandas as pd\n",
    "import torch\n",
    "import torchvision.transforms as T\n",
    "from torch.utils.data import Dataset, DataLoader\n",
    "from PIL import Image\n"
   ]
  },
  {
   "cell_type": "code",
   "execution_count": 23,
   "id": "0979f70c",
   "metadata": {},
   "outputs": [],
   "source": [
    "# imoprting dataset\n",
    "\n",
    "\n",
    "# Creating paths for imports\n",
    "data_path = Path.cwd()\n",
    "folder_path = data_path / \"bone.v1i.multiclass\"\n",
    "\n",
    "train_path = folder_path / \"train\"\n",
    "validation_path = folder_path / \"valid\"\n",
    "test_path = folder_path / \"test\"\n",
    "\n",
    "train_csv_path = train_path / '_classes.csv'\n",
    "validation_csv_path = validation_path / '_classes.csv'\n",
    "test_csv_path = test_path / '_classes.csv'\n",
    "\n",
    "train_df = pd.read_csv(train_csv_path)\n",
    "validation_df = pd.read_csv(validation_csv_path)\n",
    "test_df = pd.read_csv(test_csv_path)\n",
    "\n",
    "# Removing whiespace before column names\n",
    "def clean_df(df):\n",
    "    df.columns = df.columns.str.strip()\n",
    "    df = df.drop(columns=['fracture', 'Fracture'])\n",
    "    # df = df.drop(columns=['Fracture'])\n",
    "\n",
    "    return df\n",
    "\n",
    "train_df.columns = train_df.columns.str.strip()\n",
    "validation_df.columns = validation_df.columns.str.strip()\n",
    "test_df.columns = test_df.columns.str.strip()\n",
    "\n",
    "# Combining columns Fracture and fracture\n",
    "train_df['Fracture'] = train_df['Fracture'] | train_df['fracture']\n",
    "train_df = train_df.drop(columns=['fracture'])\n",
    "train_df = train_df.drop(columns=['Fracture'])\n",
    "validation_df['Fracture'] = validation_df['Fracture'] | validation_df['fracture']\n",
    "validation_df = validation_df.drop(columns=['fracture'])\n",
    "validation_df = validation_df.drop(columns=['Fracture'])\n",
    "test_df['Fracture'] = test_df['Fracture'] | test_df['fracture']\n",
    "test_df = test_df.drop(columns=['fracture'])\n",
    "test_df = test_df.drop(columns=['Fracture'])\n",
    "\n",
    "# train_df.head()\n"
   ]
  },
  {
   "cell_type": "code",
   "execution_count": 25,
   "id": "64552d76",
   "metadata": {},
   "outputs": [],
   "source": [
    "# creating dataloaders for the images\n",
    "class BoneDataset(Dataset):\n",
    "    def __init__(self, folder_path, transform):\n",
    "        self.folder_path = Path(folder_path)\n",
    "        self.df = pd.read_csv(self.folder_path / \"_classes.csv\")\n",
    "        self.df = clean_df(self.df)\n",
    "        self.transform = transform\n",
    "\n",
    "    def __len__(self):\n",
    "        return len(self.df)\n",
    "\n",
    "    def __getitem__(self, idx):\n",
    "        img_name = self.df.iloc[idx, 0]   # filename\n",
    "        img_path = self.folder_path / img_name\n",
    "        image = Image.open(img_path).convert(\"RGB\")\n",
    "\n",
    "        # label = self.df.iloc[idx, 1]      # class label\n",
    "        label_row = self.df.iloc[idx, 1:14]\n",
    "        label = label_row.idxmax()\n",
    "\n",
    "        if self.transform:\n",
    "            image = self.transform(image)\n",
    "\n",
    "        return image, label\n",
    "\n",
    "\n",
    "# Define transforms\n",
    "transform = T.Compose([\n",
    "    T.Resize((224, 224)),\n",
    "    T.ToTensor(),\n",
    "    T.Normalize(mean=[0.5, 0.5, 0.5], std=[0.5, 0.5, 0.5]),\n",
    "])\n",
    "\n",
    "# Create datasets\n",
    "train_dataset = BoneDataset(folder_path = train_path, transform = transform)\n",
    "valid_dataset = BoneDataset(folder_path = validation_path, transform = transform)\n",
    "test_dataset  = BoneDataset(folder_path = test_path, transform = transform)\n",
    "\n",
    "# Create DataLoaders\n",
    "batch_size = 64\n",
    "loader_train = DataLoader(train_dataset, batch_size=batch_size, shuffle=True)\n",
    "loader_valid = DataLoader(valid_dataset, batch_size=batch_size, shuffle=False)\n",
    "loader_test  = DataLoader(test_dataset, batch_size=batch_size, shuffle=False)\n",
    "\n",
    "\n",
    "# for images, labels in loader_train:\n",
    "#     print(labels)\n",
    "#     break\n"
   ]
  }
 ],
 "metadata": {
  "kernelspec": {
   "display_name": "bfd",
   "language": "python",
   "name": "python3"
  },
  "language_info": {
   "codemirror_mode": {
    "name": "ipython",
    "version": 3
   },
   "file_extension": ".py",
   "mimetype": "text/x-python",
   "name": "python",
   "nbconvert_exporter": "python",
   "pygments_lexer": "ipython3",
   "version": "3.14.0"
  }
 },
 "nbformat": 4,
 "nbformat_minor": 5
}
