{
 "cells": [
  {
   "cell_type": "markdown",
   "id": "86f50501",
   "metadata": {},
   "source": [
    "# Human Bone Fracture Detection"
   ]
  },
  {
   "cell_type": "markdown",
   "id": "02252925",
   "metadata": {},
   "source": [
    "We will detect the type of bone breaks in this project. The plans we will follow is\n",
    "- [TODO] Make a python virtual environment\n",
    "- Clean and prepare Data\n",
    "- Create transfer learning model\n",
    "- Train and get a decent accuracy using just modifications to head\n",
    "- Unfreezing and running the model\n",
    "- Test set accuracy and visualization"
   ]
  }
 ],
 "metadata": {
  "language_info": {
   "name": "python"
  }
 },
 "nbformat": 4,
 "nbformat_minor": 5
}
