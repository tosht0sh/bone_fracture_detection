{
 "cells": [
  {
   "cell_type": "markdown",
   "id": "86f50501",
   "metadata": {},
   "source": [
    "# Human Bone Fracture Detection"
   ]
  },
  {
   "cell_type": "markdown",
   "id": "02252925",
   "metadata": {},
   "source": [
    "We will detect the type of bone breaks in this project. The plans we will follow is\n",
    "- [TODO] Make a python virtual environment\n",
    "- Clean and prepare Data\n",
    "- Create transfer learning model\n",
    "- Train and get a decent accuracy using just modifications to head\n",
    "- Unfreezing and running the model\n",
    "- Test set accuracy and visualization"
   ]
  },
  {
   "cell_type": "code",
   "execution_count": 6,
   "id": "ff6473fb",
   "metadata": {},
   "outputs": [
    {
     "name": "stdout",
     "output_type": "stream",
     "text": [
      "Requirement already satisfied: numpy in c:\\ssy340_dml\\bone_fracture_detection\\bfd\\lib\\site-packages (2.3.4)\n",
      "Requirement already satisfied: pandas in c:\\ssy340_dml\\bone_fracture_detection\\bfd\\lib\\site-packages (2.3.3)\n",
      "Requirement already satisfied: numpy>=1.26.0 in c:\\ssy340_dml\\bone_fracture_detection\\bfd\\lib\\site-packages (from pandas) (2.3.4)\n",
      "Requirement already satisfied: python-dateutil>=2.8.2 in c:\\ssy340_dml\\bone_fracture_detection\\bfd\\lib\\site-packages (from pandas) (2.9.0.post0)\n",
      "Requirement already satisfied: pytz>=2020.1 in c:\\ssy340_dml\\bone_fracture_detection\\bfd\\lib\\site-packages (from pandas) (2025.2)\n",
      "Requirement already satisfied: tzdata>=2022.7 in c:\\ssy340_dml\\bone_fracture_detection\\bfd\\lib\\site-packages (from pandas) (2025.2)\n",
      "Requirement already satisfied: six>=1.5 in c:\\ssy340_dml\\bone_fracture_detection\\bfd\\lib\\site-packages (from python-dateutil>=2.8.2->pandas) (1.17.0)\n",
      "Looking in indexes: https://download.pytorch.org/whl/cu126\n",
      "Requirement already satisfied: torch in c:\\ssy340_dml\\bone_fracture_detection\\bfd\\lib\\site-packages (2.9.0+cu126)\n",
      "Requirement already satisfied: torchvision in c:\\ssy340_dml\\bone_fracture_detection\\bfd\\lib\\site-packages (0.24.0+cu126)\n",
      "Requirement already satisfied: filelock in c:\\ssy340_dml\\bone_fracture_detection\\bfd\\lib\\site-packages (from torch) (3.19.1)\n",
      "Requirement already satisfied: typing-extensions>=4.10.0 in c:\\ssy340_dml\\bone_fracture_detection\\bfd\\lib\\site-packages (from torch) (4.15.0)\n",
      "Requirement already satisfied: sympy>=1.13.3 in c:\\ssy340_dml\\bone_fracture_detection\\bfd\\lib\\site-packages (from torch) (1.14.0)\n",
      "Requirement already satisfied: networkx>=2.5.1 in c:\\ssy340_dml\\bone_fracture_detection\\bfd\\lib\\site-packages (from torch) (3.5)\n",
      "Requirement already satisfied: jinja2 in c:\\ssy340_dml\\bone_fracture_detection\\bfd\\lib\\site-packages (from torch) (3.1.6)\n",
      "Requirement already satisfied: fsspec>=0.8.5 in c:\\ssy340_dml\\bone_fracture_detection\\bfd\\lib\\site-packages (from torch) (2025.9.0)\n",
      "Requirement already satisfied: setuptools in c:\\ssy340_dml\\bone_fracture_detection\\bfd\\lib\\site-packages (from torch) (70.2.0)\n",
      "Requirement already satisfied: numpy in c:\\ssy340_dml\\bone_fracture_detection\\bfd\\lib\\site-packages (from torchvision) (2.3.4)\n",
      "Requirement already satisfied: pillow!=8.3.*,>=5.3.0 in c:\\ssy340_dml\\bone_fracture_detection\\bfd\\lib\\site-packages (from torchvision) (11.3.0)\n",
      "Requirement already satisfied: mpmath<1.4,>=1.1.0 in c:\\ssy340_dml\\bone_fracture_detection\\bfd\\lib\\site-packages (from sympy>=1.13.3->torch) (1.3.0)\n",
      "Requirement already satisfied: MarkupSafe>=2.0 in c:\\ssy340_dml\\bone_fracture_detection\\bfd\\lib\\site-packages (from jinja2->torch) (2.1.5)\n",
      "Collecting matplotlib\n",
      "  Downloading matplotlib-3.10.7-cp314-cp314-win_amd64.whl.metadata (11 kB)\n",
      "Collecting contourpy>=1.0.1 (from matplotlib)\n",
      "  Downloading contourpy-1.3.3-cp314-cp314-win_amd64.whl.metadata (5.5 kB)\n",
      "Collecting cycler>=0.10 (from matplotlib)\n",
      "  Downloading cycler-0.12.1-py3-none-any.whl.metadata (3.8 kB)\n",
      "Collecting fonttools>=4.22.0 (from matplotlib)\n",
      "  Downloading fonttools-4.60.1-cp314-cp314-win_amd64.whl.metadata (114 kB)\n",
      "Collecting kiwisolver>=1.3.1 (from matplotlib)\n",
      "  Downloading kiwisolver-1.4.9-cp314-cp314-win_amd64.whl.metadata (6.4 kB)\n",
      "Requirement already satisfied: numpy>=1.23 in c:\\ssy340_dml\\bone_fracture_detection\\bfd\\lib\\site-packages (from matplotlib) (2.3.4)\n",
      "Requirement already satisfied: packaging>=20.0 in c:\\ssy340_dml\\bone_fracture_detection\\bfd\\lib\\site-packages (from matplotlib) (25.0)\n",
      "Requirement already satisfied: pillow>=8 in c:\\ssy340_dml\\bone_fracture_detection\\bfd\\lib\\site-packages (from matplotlib) (11.3.0)\n",
      "Collecting pyparsing>=3 (from matplotlib)\n",
      "  Downloading pyparsing-3.2.5-py3-none-any.whl.metadata (5.0 kB)\n",
      "Requirement already satisfied: python-dateutil>=2.7 in c:\\ssy340_dml\\bone_fracture_detection\\bfd\\lib\\site-packages (from matplotlib) (2.9.0.post0)\n",
      "Requirement already satisfied: six>=1.5 in c:\\ssy340_dml\\bone_fracture_detection\\bfd\\lib\\site-packages (from python-dateutil>=2.7->matplotlib) (1.17.0)\n",
      "Downloading matplotlib-3.10.7-cp314-cp314-win_amd64.whl (8.3 MB)\n",
      "   ---------------------------------------- 0.0/8.3 MB ? eta -:--:--\n",
      "   --- ------------------------------------ 0.8/8.3 MB 5.0 MB/s eta 0:00:02\n",
      "   ---------- ----------------------------- 2.1/8.3 MB 5.5 MB/s eta 0:00:02\n",
      "   ------------------- -------------------- 3.9/8.3 MB 6.8 MB/s eta 0:00:01\n",
      "   ----------------------------- ---------- 6.0/8.3 MB 7.6 MB/s eta 0:00:01\n",
      "   ---------------------------------------  8.1/8.3 MB 8.1 MB/s eta 0:00:01\n",
      "   ---------------------------------------- 8.3/8.3 MB 7.7 MB/s  0:00:01\n",
      "Downloading contourpy-1.3.3-cp314-cp314-win_amd64.whl (232 kB)\n",
      "Downloading cycler-0.12.1-py3-none-any.whl (8.3 kB)\n",
      "Downloading fonttools-4.60.1-cp314-cp314-win_amd64.whl (2.3 MB)\n",
      "   ---------------------------------------- 0.0/2.3 MB ? eta -:--:--\n",
      "   ---------------------------------------- 2.3/2.3 MB 11.2 MB/s  0:00:00\n",
      "Downloading kiwisolver-1.4.9-cp314-cp314-win_amd64.whl (75 kB)\n",
      "Downloading pyparsing-3.2.5-py3-none-any.whl (113 kB)\n",
      "Installing collected packages: pyparsing, kiwisolver, fonttools, cycler, contourpy, matplotlib\n",
      "\n",
      "   ---------------------------------------- 0/6 [pyparsing]\n",
      "   ------------- -------------------------- 2/6 [fonttools]\n",
      "   ------------- -------------------------- 2/6 [fonttools]\n",
      "   ------------- -------------------------- 2/6 [fonttools]\n",
      "   ------------- -------------------------- 2/6 [fonttools]\n",
      "   ------------- -------------------------- 2/6 [fonttools]\n",
      "   ------------- -------------------------- 2/6 [fonttools]\n",
      "   ------------- -------------------------- 2/6 [fonttools]\n",
      "   ------------- -------------------------- 2/6 [fonttools]\n",
      "   ------------- -------------------------- 2/6 [fonttools]\n",
      "   ------------- -------------------------- 2/6 [fonttools]\n",
      "   ------------- -------------------------- 2/6 [fonttools]\n",
      "   ------------- -------------------------- 2/6 [fonttools]\n",
      "   ------------- -------------------------- 2/6 [fonttools]\n",
      "   -------------------------- ------------- 4/6 [contourpy]\n",
      "   --------------------------------- ------ 5/6 [matplotlib]\n",
      "   --------------------------------- ------ 5/6 [matplotlib]\n",
      "   --------------------------------- ------ 5/6 [matplotlib]\n",
      "   --------------------------------- ------ 5/6 [matplotlib]\n",
      "   --------------------------------- ------ 5/6 [matplotlib]\n",
      "   --------------------------------- ------ 5/6 [matplotlib]\n",
      "   --------------------------------- ------ 5/6 [matplotlib]\n",
      "   --------------------------------- ------ 5/6 [matplotlib]\n",
      "   --------------------------------- ------ 5/6 [matplotlib]\n",
      "   --------------------------------- ------ 5/6 [matplotlib]\n",
      "   --------------------------------- ------ 5/6 [matplotlib]\n",
      "   --------------------------------- ------ 5/6 [matplotlib]\n",
      "   --------------------------------- ------ 5/6 [matplotlib]\n",
      "   --------------------------------- ------ 5/6 [matplotlib]\n",
      "   --------------------------------- ------ 5/6 [matplotlib]\n",
      "   --------------------------------- ------ 5/6 [matplotlib]\n",
      "   --------------------------------- ------ 5/6 [matplotlib]\n",
      "   --------------------------------- ------ 5/6 [matplotlib]\n",
      "   --------------------------------- ------ 5/6 [matplotlib]\n",
      "   --------------------------------- ------ 5/6 [matplotlib]\n",
      "   ---------------------------------------- 6/6 [matplotlib]\n",
      "\n",
      "Successfully installed contourpy-1.3.3 cycler-0.12.1 fonttools-4.60.1 kiwisolver-1.4.9 matplotlib-3.10.7 pyparsing-3.2.5\n"
     ]
    }
   ],
   "source": [
    "!pip install numpy\n",
    "!pip install pandas\n",
    "!pip install torch torchvision --index-url https://download.pytorch.org/whl/cu126\n",
    "!pip install matplotlib"
   ]
  },
  {
   "cell_type": "markdown",
   "id": "4cb48478",
   "metadata": {},
   "source": [
    "### Importing dependencies and database"
   ]
  },
  {
   "cell_type": "code",
   "execution_count": 8,
   "id": "defca79d",
   "metadata": {},
   "outputs": [],
   "source": [
    "# imorting reqd libs\n",
    "from pathlib import Path"
   ]
  },
  {
   "cell_type": "code",
   "execution_count": 10,
   "id": "0979f70c",
   "metadata": {},
   "outputs": [
    {
     "name": "stdout",
     "output_type": "stream",
     "text": [
      "c:\\SSY340_DML\\bone_fracture_detection\\bone.v1i.multiclass\\train\n"
     ]
    }
   ],
   "source": [
    "# imoprting dataset\n",
    "\n",
    "data_path = Path.cwd()\n",
    "folder_path = data_path / \"bone.v1i.multiclass\"\n",
    "\n",
    "\n",
    "train_path = folder_path / \"train\"\n",
    "validation_path = folder_path / \"valid\"\n",
    "test_path = folder_path / \"test\"\n",
    "\n",
    "print(train_path)"
   ]
  }
 ],
 "metadata": {
  "kernelspec": {
   "display_name": "bfd",
   "language": "python",
   "name": "python3"
  },
  "language_info": {
   "codemirror_mode": {
    "name": "ipython",
    "version": 3
   },
   "file_extension": ".py",
   "mimetype": "text/x-python",
   "name": "python",
   "nbconvert_exporter": "python",
   "pygments_lexer": "ipython3",
   "version": "3.14.0"
  }
 },
 "nbformat": 4,
 "nbformat_minor": 5
}
